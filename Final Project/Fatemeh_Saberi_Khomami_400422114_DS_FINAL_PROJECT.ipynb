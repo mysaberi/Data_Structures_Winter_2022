{
 "cells": [
  {
   "cell_type": "markdown",
   "id": "creative-salmon",
   "metadata": {},
   "source": [
    "# Fatemeh Saberi Khomami\n",
    "\n",
    "## Student_Number : 400422114"
   ]
  },
  {
   "cell_type": "code",
   "execution_count": 110,
   "id": "addressed-pressure",
   "metadata": {},
   "outputs": [],
   "source": [
    "#defining the structure of trie node\n",
    "\n",
    "class trienode():\n",
    "    def __init__(self):\n",
    "        self.children = {}\n",
    "        self.end = False"
   ]
  },
  {
   "cell_type": "code",
   "execution_count": 111,
   "id": "placed-south",
   "metadata": {},
   "outputs": [],
   "source": [
    "#defining the trie tree class with insert, search, remove, and auto-complete functions\n",
    "# CAUTION: MY TREE IS NOT CASE-SENSITIVE. fEeL fReE To tYpE HoWEveR yOu W!Sh\n",
    "\n",
    "class trietree():\n",
    "    \n",
    "    def __init__(self):\n",
    "        \n",
    "        self.root = trienode()\n",
    "        \n",
    "        \n",
    "    def bool_search(self, word):\n",
    "        word=word.lower()\n",
    "        node=self.root\n",
    "        \n",
    "        for char in word:\n",
    "            \n",
    "            if(char not in node.children):\n",
    "                \n",
    "                return False\n",
    "            \n",
    "            node = node.children[char]\n",
    "            \n",
    "        return node.end\n",
    "    \n",
    " \n",
    "    def insert(self, word):\n",
    "        \n",
    "        new = self.root\n",
    "        word=word.lower()\n",
    "        \n",
    "        if(self.bool_search(word)):\n",
    "            print(\"the word already exists in the trie tree\")\n",
    "            return\n",
    "        else:\n",
    "            for char in word:\n",
    "\n",
    "                if(char not in new.children):\n",
    "\n",
    "                    new.children[char] = trienode()\n",
    "\n",
    "                new = new.children[char]\n",
    "\n",
    "            new.end = True\n",
    "            \n",
    "    \n",
    "    def remove(self, word,s=0):\n",
    "        word=word.lower()\n",
    "        node=self.root\n",
    "        \n",
    "        if(s==0):\n",
    "            if(not self.bool_search(word)):\n",
    "                print(\"This word does not exist in the trie tree to be removed\")\n",
    "                return\n",
    "        for char in word[:-1]:\n",
    "            node = node.children[char]\n",
    "    \n",
    "        if(bool(node.children[word[-1]].children)):\n",
    "            node.children[word[-1]].end = False\n",
    "        \n",
    "        else:\n",
    "            \n",
    "            if(not bool(node.children[word[-1]].children) and word != \"\" and s==0):\n",
    "                del node.children[word[-1]]\n",
    "                if(len(word)>1):\n",
    "                    self.remove(word[:-1],s=1)\n",
    "                \n",
    "            elif(not bool(node.children[word[-1]].children) and word != \"\" and s==1 and node.children[word[-1]].end==False):\n",
    "                del node.children[word[-1]]\n",
    "                if(len(word)>1):\n",
    "                    self.remove(word[:-1],s=1)\n",
    "                \n",
    "    #this function handles the recursive part of the children search in the auto-complete process      \n",
    "    def recom(self,node, word):\n",
    "    \n",
    "        if node.end:\n",
    "            print(word)\n",
    " \n",
    "        for char, child in node.children.items():\n",
    "            self.recom(child, word + char)\n",
    "\n",
    "\n",
    "    def auto_complete(self,input_word):\n",
    "        node=self.root\n",
    "        word=input_word.lower()\n",
    "        print(\"Results:\")\n",
    "    \n",
    "        for char in word:\n",
    "            if char not in node.children:\n",
    "                print(\"there are no matchings regarding the input in the trie tree\")\n",
    "                return\n",
    "            node = node.children[char]\n",
    " \n",
    "        self.recom(node, word)     "
   ]
  },
  {
   "cell_type": "markdown",
   "id": "infrared-quantum",
   "metadata": {},
   "source": [
    "____"
   ]
  },
  {
   "cell_type": "markdown",
   "id": "intelligent-enemy",
   "metadata": {},
   "source": [
    "### testing the implemented trie tree"
   ]
  },
  {
   "cell_type": "code",
   "execution_count": 112,
   "id": "documentary-attempt",
   "metadata": {},
   "outputs": [],
   "source": [
    "t = trietree()"
   ]
  },
  {
   "cell_type": "code",
   "execution_count": 113,
   "id": "continental-highway",
   "metadata": {},
   "outputs": [],
   "source": [
    "keys = ['for','forbid','fool','foot','fold','folk','hi','hide','high','hill','hint','cat']\n",
    "\n",
    " \n",
    "for k in keys:\n",
    "    t.insert(k)"
   ]
  },
  {
   "cell_type": "code",
   "execution_count": 114,
   "id": "exclusive-leone",
   "metadata": {},
   "outputs": [
    {
     "name": "stdout",
     "output_type": "stream",
     "text": [
      "the word already exists in the trie tree\n"
     ]
    }
   ],
   "source": [
    "t.insert(\"hi\")\n"
   ]
  },
  {
   "cell_type": "code",
   "execution_count": 115,
   "id": "quality-carol",
   "metadata": {},
   "outputs": [
    {
     "data": {
      "text/plain": [
       "True"
      ]
     },
     "execution_count": 115,
     "metadata": {},
     "output_type": "execute_result"
    }
   ],
   "source": [
    "t.bool_search(\"hi\")"
   ]
  },
  {
   "cell_type": "code",
   "execution_count": 116,
   "id": "suspected-punch",
   "metadata": {},
   "outputs": [],
   "source": [
    "t.remove(\"hi\")"
   ]
  },
  {
   "cell_type": "code",
   "execution_count": 117,
   "id": "actual-protection",
   "metadata": {},
   "outputs": [
    {
     "data": {
      "text/plain": [
       "False"
      ]
     },
     "execution_count": 117,
     "metadata": {},
     "output_type": "execute_result"
    }
   ],
   "source": [
    "t.bool_search(\"hi\")"
   ]
  },
  {
   "cell_type": "code",
   "execution_count": 118,
   "id": "false-smart",
   "metadata": {},
   "outputs": [
    {
     "data": {
      "text/plain": [
       "True"
      ]
     },
     "execution_count": 118,
     "metadata": {},
     "output_type": "execute_result"
    }
   ],
   "source": [
    "t.bool_search(\"hint\")"
   ]
  },
  {
   "cell_type": "code",
   "execution_count": 119,
   "id": "personal-degree",
   "metadata": {},
   "outputs": [],
   "source": [
    "t.remove(\"cat\")"
   ]
  },
  {
   "cell_type": "code",
   "execution_count": 120,
   "id": "desirable-certificate",
   "metadata": {},
   "outputs": [
    {
     "data": {
      "text/plain": [
       "{'f': <__main__.trienode at 0x2a9dd4e0c40>,\n",
       " 'h': <__main__.trienode at 0x2a9dd6006a0>}"
      ]
     },
     "execution_count": 120,
     "metadata": {},
     "output_type": "execute_result"
    }
   ],
   "source": [
    "t.root.children"
   ]
  },
  {
   "cell_type": "code",
   "execution_count": 121,
   "id": "inclusive-arkansas",
   "metadata": {},
   "outputs": [
    {
     "data": {
      "text/plain": [
       "False"
      ]
     },
     "execution_count": 121,
     "metadata": {},
     "output_type": "execute_result"
    }
   ],
   "source": [
    "t.bool_search(\"cat\")"
   ]
  },
  {
   "cell_type": "code",
   "execution_count": 122,
   "id": "serial-expansion",
   "metadata": {},
   "outputs": [],
   "source": [
    "t.remove(\"forbid\")"
   ]
  },
  {
   "cell_type": "code",
   "execution_count": 123,
   "id": "laden-effort",
   "metadata": {},
   "outputs": [
    {
     "data": {
      "text/plain": [
       "False"
      ]
     },
     "execution_count": 123,
     "metadata": {},
     "output_type": "execute_result"
    }
   ],
   "source": [
    "t.bool_search(\"forbid\")"
   ]
  },
  {
   "cell_type": "code",
   "execution_count": 124,
   "id": "incorporated-insider",
   "metadata": {},
   "outputs": [
    {
     "data": {
      "text/plain": [
       "True"
      ]
     },
     "execution_count": 124,
     "metadata": {},
     "output_type": "execute_result"
    }
   ],
   "source": [
    "t.bool_search(\"for\")"
   ]
  },
  {
   "cell_type": "code",
   "execution_count": 125,
   "id": "complex-chosen",
   "metadata": {},
   "outputs": [
    {
     "data": {
      "text/plain": [
       "{}"
      ]
     },
     "execution_count": 125,
     "metadata": {},
     "output_type": "execute_result"
    }
   ],
   "source": [
    "t.root.children[\"f\"].children[\"o\"].children['r'].children"
   ]
  },
  {
   "cell_type": "code",
   "execution_count": 126,
   "id": "employed-fundamental",
   "metadata": {},
   "outputs": [
    {
     "name": "stdout",
     "output_type": "stream",
     "text": [
      "Results:\n",
      "hide\n",
      "high\n",
      "hill\n",
      "hint\n"
     ]
    }
   ],
   "source": [
    "t.auto_complete(\"h\")"
   ]
  },
  {
   "cell_type": "markdown",
   "id": "regulated-wellington",
   "metadata": {},
   "source": [
    "### In the below code, users can interact with the tree"
   ]
  },
  {
   "cell_type": "code",
   "execution_count": 128,
   "id": "ac4a475b",
   "metadata": {},
   "outputs": [
    {
     "name": "stdout",
     "output_type": "stream",
     "text": [
      "Welcome\n",
      "If you want to\n",
      "AutoComplete: Press A\n",
      "Insert:       Press I\n",
      "Search:       Press S\n",
      "Remove:       Press R\n",
      "Exit:         Enter any key\n",
      "A\n",
      "AutoComplete\n",
      "Expression: HI\n",
      "Results:\n",
      "hi\n",
      "hide\n",
      "high\n",
      "hill\n",
      "hint\n",
      "I\n",
      "Insert\n",
      "Expression: HIGH ROADS\n",
      "A\n",
      "AutoComplete\n",
      "Expression: H\n",
      "Results:\n",
      "hi\n",
      "hide\n",
      "high\n",
      "high roads\n",
      "hill\n",
      "hint\n",
      "\n"
     ]
    }
   ],
   "source": [
    "i = input(\"Welcome\\nIf you want to\\nAutoComplete: Press A\\nInsert:       Press I\\nSearch:       Press S\\nRemove:       Press R\\nExit:         Enter any key\\n\")\n",
    "while (i in {'A','I','S','R'}):\n",
    "    if i == 'A':\n",
    "        exp = input(\"AutoComplete\\nExpression: \")\n",
    "        t.auto_complete(exp)\n",
    "    elif i == 'I':\n",
    "        exp = input(\"Insert\\nExpression: \")\n",
    "        t.insert(exp)\n",
    "    elif i == 'S':\n",
    "        exp = input(\"Search\\nExpression: \")\n",
    "        print(t.bool_search(exp))\n",
    "    elif i == 'R':\n",
    "        exp = input(\"Remove\\nExpression: \")\n",
    "        t.remove(exp)\n",
    "    i = input()"
   ]
  },
  {
   "cell_type": "code",
   "execution_count": null,
   "id": "fewer-hearing",
   "metadata": {},
   "outputs": [],
   "source": []
  }
 ],
 "metadata": {
  "kernelspec": {
   "display_name": "Python 3",
   "language": "python",
   "name": "python3"
  },
  "language_info": {
   "codemirror_mode": {
    "name": "ipython",
    "version": 3
   },
   "file_extension": ".py",
   "mimetype": "text/x-python",
   "name": "python",
   "nbconvert_exporter": "python",
   "pygments_lexer": "ipython3",
   "version": "3.9.1"
  }
 },
 "nbformat": 4,
 "nbformat_minor": 5
}
